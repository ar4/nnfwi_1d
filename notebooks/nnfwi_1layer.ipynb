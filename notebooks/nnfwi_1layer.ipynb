{
 "cells": [
  {
   "cell_type": "markdown",
   "metadata": {},
   "source": [
    "A single interface separating two layers, always the same 50Hz Ricker source. Don't provide anything but data and source wavelet. Results are OKish. Sometimes gets it very well, other times pretty poor. Image comparing all test results to true test velocities looks quite impressive, though."
   ]
  },
  {
   "cell_type": "code",
   "execution_count": null,
   "metadata": {
    "collapsed": true
   },
   "outputs": [],
   "source": [
    "import tensorflow as tf\n",
    "import numpy as np\n",
    "import matplotlib.pyplot as plt\n",
    "%matplotlib inline"
   ]
  },
  {
   "cell_type": "code",
   "execution_count": null,
   "metadata": {
    "collapsed": false
   },
   "outputs": [],
   "source": [
    "sources=np.load('../data/sources_1layer.npy')\n",
    "data=np.load('../data/data_1layer.npy')\n",
    "V=np.load('../data/V_1layer.npy')\n",
    "vmin=1500\n",
    "vmax=5000\n",
    "V=(V-vmin)/(vmax-vmin)\n",
    "print(sources.shape, data.shape, V.shape)"
   ]
  },
  {
   "cell_type": "code",
   "execution_count": null,
   "metadata": {
    "collapsed": false
   },
   "outputs": [],
   "source": [
    "X = np.hstack([sources, data])\n",
    "print(X.shape)\n",
    "ntrain = X.shape[0]-100\n",
    "X_train = X[:ntrain,:]\n",
    "V_train = V[:ntrain,:]\n",
    "X_test = X[ntrain:,:]\n",
    "V_test = V[ntrain:,:]"
   ]
  },
  {
   "cell_type": "code",
   "execution_count": null,
   "metadata": {
    "collapsed": false
   },
   "outputs": [],
   "source": [
    "plt.plot(X[4,:])"
   ]
  },
  {
   "cell_type": "code",
   "execution_count": null,
   "metadata": {
    "collapsed": false
   },
   "outputs": [],
   "source": [
    "plt.figure(figsize=(12,12))\n",
    "plt.imshow(X[:250,:], aspect='auto')\n",
    "plt.figure(figsize=(12,12))\n",
    "plt.imshow(V[:250,:], aspect='auto')"
   ]
  },
  {
   "cell_type": "code",
   "execution_count": null,
   "metadata": {
    "collapsed": false
   },
   "outputs": [],
   "source": [
    "hs =[250]\n",
    "ls = np.zeros(len(hs))\n",
    "\n",
    "for hidx, num_hidden in enumerate(hs):\n",
    "\n",
    "    init=True\n",
    "    if init:\n",
    "        tf.reset_default_graph()\n",
    "\n",
    "        X_tf = tf.placeholder(tf.float32, (None, X.shape[1]))\n",
    "        V_tf = tf.placeholder(tf.float32, (None, V.shape[1]))\n",
    "\n",
    "        l1 = tf.layers.dense(X_tf, num_hidden, activation=tf.nn.relu, name='l1')\n",
    "        l2 = tf.layers.dense(l1, num_hidden, activation=tf.nn.relu, name='l2')\n",
    "        l3 = tf.layers.dense(l2, num_hidden, activation=tf.nn.relu, name='l3')\n",
    "        l4 = tf.layers.dense(l3, num_hidden, activation=tf.nn.relu, name='l4')\n",
    "        l5 = tf.layers.dense(l4, num_hidden, activation=tf.nn.relu, name='l5')\n",
    "        l6 = tf.layers.dense(l5, num_hidden, activation=tf.nn.relu, name='l6')\n",
    "        l7 = tf.layers.dense(l6, num_hidden, activation=tf.nn.relu, name='l7')\n",
    "        l8 = tf.layers.dense(l7, V.shape[1], name='l8')\n",
    "\n",
    "        loss = tf.losses.mean_squared_error(V_tf, l8)\n",
    "        train_op = tf.train.AdamOptimizer().minimize(loss)\n",
    "\n",
    "        batch_size=50\n",
    "\n",
    "        def test_loss():\n",
    "            return sess.run(loss, feed_dict={X_tf: X_test, V_tf: V_test})\n",
    "\n",
    "        def test_prediction():\n",
    "            return sess.run(l8, feed_dict={X_tf: X_test, V_tf: V_test})\n",
    "\n",
    "\n",
    "        sess = tf.Session()\n",
    "        sess.run(tf.global_variables_initializer())\n",
    "        \n",
    "    for step in range(20000):\n",
    "        bs = step*batch_size %(X_train.shape[1] - batch_size)\n",
    "        x_batch = X_train[bs:bs+batch_size, :]\n",
    "        v_batch = V_train[bs:bs+batch_size, :]\n",
    "        _, l = sess.run([train_op, loss], feed_dict={X_tf: x_batch, V_tf: v_batch})\n",
    "        if step % 1000 == 0:\n",
    "            print(step, l, test_loss())\n",
    "    print(hidx, test_loss())\n",
    "    ls[hidx] = test_loss()"
   ]
  },
  {
   "cell_type": "code",
   "execution_count": null,
   "metadata": {
    "collapsed": false
   },
   "outputs": [],
   "source": [
    "plt.plot(test_prediction()[4,:])\n",
    "plt.plot(V_test[4,:])"
   ]
  },
  {
   "cell_type": "code",
   "execution_count": null,
   "metadata": {
    "collapsed": false
   },
   "outputs": [],
   "source": [
    "plt.imshow(test_prediction(), aspect='auto', vmin=0, vmax=1)\n",
    "plt.figure()\n",
    "plt.imshow(V_test, aspect='auto', vmin=0, vmax=1)"
   ]
  }
 ],
 "metadata": {
  "anaconda-cloud": {},
  "kernelspec": {
   "display_name": "Python [default]",
   "language": "python",
   "name": "python3"
  },
  "language_info": {
   "codemirror_mode": {
    "name": "ipython",
    "version": 3
   },
   "file_extension": ".py",
   "mimetype": "text/x-python",
   "name": "python",
   "nbconvert_exporter": "python",
   "pygments_lexer": "ipython3",
   "version": "3.5.2"
  }
 },
 "nbformat": 4,
 "nbformat_minor": 1
}
